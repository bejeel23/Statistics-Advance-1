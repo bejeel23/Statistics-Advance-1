{
  "nbformat": 4,
  "nbformat_minor": 0,
  "metadata": {
    "colab": {
      "provenance": []
    },
    "kernelspec": {
      "name": "python3",
      "display_name": "Python 3"
    },
    "language_info": {
      "name": "python"
    }
  },
  "cells": [
    {
      "cell_type": "markdown",
      "source": [
        "**Assignment**"
      ],
      "metadata": {
        "id": "nQ26kuzrMYtl"
      }
    },
    {
      "cell_type": "markdown",
      "source": [
        "**Question 1: What is a random variable in probability theory?**"
      ],
      "metadata": {
        "id": "9nwvVyunMj7t"
      }
    },
    {
      "cell_type": "markdown",
      "source": [
        "**Answer**-. A random variable is a variable that represents the outcomes of a random expriement in numerical form.\n",
        "\n",
        "It assigns a numerical value to each possible outcomes of an experiment.\n",
        "\n",
        "In probability theory a raondom variable is defined as a function that maps each outcomes in the sample space to a real number.\n",
        "\n",
        "**For example**\n",
        "\n",
        ". When a coin is tossed if we assign 1 for \"Head\" and 0 fpr \"Tail then this numerical value is called a random varibale.\n",
        "\n",
        ". When a die is rolled the number that appers on the die (1 to 6) is a random variable.\n",
        "\n",
        "There are two main types of random variables:\n",
        "\n",
        "1. Discrete Random Variable: Takes contable values( eg. number of heads in 3 coins tosses).\n",
        "\n",
        "2. Continuous Random Variable: Takes infinite mant possible values within an interval (eg. height, toime, or temperature)\n",
        "\n",
        "\n"
      ],
      "metadata": {
        "id": "WXfB9Sp4MsvN"
      }
    },
    {
      "cell_type": "markdown",
      "source": [
        "**Question 2: What are the types of random variables?**\n"
      ],
      "metadata": {
        "id": "yJTyx0fIP8xe"
      }
    },
    {
      "cell_type": "markdown",
      "source": [
        "**Answer**\n",
        "\n",
        "Types of Random Variables\n",
        "\n",
        "A random variable is a variable that represents the possible outcomes of a random experiment in numerical form.\n",
        "\n",
        "Based on the types of values it can take random variable are classified into two main types:\n",
        "\n",
        "1. Discrete Random Variable:\n",
        "\n",
        "A discrete random variable takes countable values.\n",
        "\n",
        "This means it can only take specifics, seperate numbers(like 0,1,2,3...).\n",
        "\n",
        "**Example**\n",
        "\n",
        ". Number of heads in 3 coins tossess(possible values:0,1,2,3)\n",
        "\n",
        ". Number of students presents in a class\n",
        "\n",
        ". Number of defective itemes in a batch\n",
        "\n",
        "2. Continuouse Random Variable:\n",
        "\n",
        "A continouse random variable can take uncountable infinite values within a range or interval.\n",
        "\n",
        "The values are measured not counted.\n",
        "\n",
        "**Example**\n",
        "\n",
        ". Height or weight of student\n",
        "\n",
        ". Time taken to complete a task\n",
        "\n",
        ". Temperature in a city"
      ],
      "metadata": {
        "id": "lu-TLA04QFW-"
      }
    },
    {
      "cell_type": "markdown",
      "source": [
        "**Question 3: Explain the difference between discrete and continuous distributions.**"
      ],
      "metadata": {
        "id": "rvP33NewS1Nv"
      }
    },
    {
      "cell_type": "markdown",
      "source": [
        "**Answer**\n",
        "  \n",
        "   The difference between discrete and continuous distributions lies in the type of values the random variables can take and how probabilities are assigned to those values.\n",
        "\n",
        "  \n",
        "\n",
        "| Feature                | Discrete Distribution           | Continuous Distribution                        |\n",
        "| ---------------------- | ------------------------------- | ---------------------------------------------- |\n",
        "| Values                 | Countable (e.g., 0, 1, 2, ...)  | Uncountable (e.g., any real number in a range) |\n",
        "| Probability of a value | ( P(X = x) > 0 ) possible       | ( P(X = x) = 0 ) always                        |\n",
        "| Function used          | PMF (Probability Mass Function) | PDF (Probability Density Function)             |\n",
        "| Total Probability      | ( \\sum P(X = x) = 1 )           | ( \\int f(x)dx = 1 )                            |\n",
        "| Example                | Number of students in a class   | Height of students                             |"
      ],
      "metadata": {
        "id": "8zlkkNL8SE_3"
      }
    },
    {
      "cell_type": "markdown",
      "source": [
        "**Question 4: What is a binomial distribution, and how is it used in probability?**"
      ],
      "metadata": {
        "id": "Ny4y-gEbTAnw"
      }
    },
    {
      "cell_type": "markdown",
      "source": [
        "**Answer**\n",
        "  \n",
        "  The binomial distribution is a discrete probability distribution that models the number of successes in a fixed number of independent trials of a binary (yes/no) experiment.\n",
        "\n",
        " Key Features of a Binomial Experiment:\n",
        "\n",
        "  1. Fixed number of trials (n)\n",
        "\n",
        "  2. Each trial has only two outcomes: success or failure\n",
        "\n",
        "  3. The probability of success (P) is the same for each trial\n",
        "\n",
        "  4. Trials are independent of each other"
      ],
      "metadata": {
        "id": "OVfdxxyeTFEv"
      }
    },
    {
      "cell_type": "markdown",
      "source": [
        "**Question 5: What is the standard normal distribution, and why is it important?**\n"
      ],
      "metadata": {
        "id": "g31_-nl8TNif"
      }
    },
    {
      "cell_type": "markdown",
      "source": [
        "  **Answer**\n",
        "  \n",
        "  The standard normal distribution is a special case of the normal distribution, which is one of the most important probability distributions in statistics and probability theory.\n",
        "\n",
        "  Why is the Standard Normal Distribution Important:\n",
        "\n",
        "    1. It’s a Basis for All Normal Distributions\n",
        "\n",
        "    * Any normal distribution\n",
        "𝑋\n",
        "∼\n",
        "𝑁\n",
        "(\n",
        "𝜇\n",
        ",\n",
        "𝜎\n",
        "2\n",
        ")\n",
        "X∼N(μ,σ\n",
        "2\n",
        ") can be standardized to the standard normal using:\n",
        "\n",
        "* This z-transformation makes it possible to use one universal table for calculating probabilities.\n",
        "\n",
        " * This z-transformation makes it possible to use one universal table for calculating probabilities.\n",
        "\n",
        " 2. Used for Calculating Probabilities\n",
        "\n",
        "   * Helps determine probabilities and percentiles for normally distributed variables:\n",
        "\n",
        "\n",
        " 3. Central in Statistical Inference\n",
        "\n",
        "   * Forms the basis for many inferential statistics:\n",
        "\n",
        "   * Z-tests\n",
        "\n",
        "   * Confidence intervals\n",
        "\n",
        "   * P-values\n",
        "\n",
        "   * Central Limit Theorem (CLT) — which says that the sum or average of many independent random variables tends to follow a normal distribution (often standard normal when standardized), even if the original data isn't normal."
      ],
      "metadata": {
        "id": "LszvHfUQTx-5"
      }
    },
    {
      "cell_type": "markdown",
      "source": [
        "**Question 6: What is the Central Limit Theorem (CLT), and why is it critical in statistics?**\n"
      ],
      "metadata": {
        "id": "bWrwlWMUT8K3"
      }
    },
    {
      "cell_type": "markdown",
      "source": [
        "**Answer**\n",
        "  \n",
        "  The Central Limit Theorem (CLT) is one of the most fundamental and powerful results in statistics. It explains why normal distributions appear so frequently in practice, even when the underlying data is not normally distributed.\n",
        "\n",
        "\n",
        "Why is the CLT Critical in Statistics:-\n",
        "\n",
        " 1. Makes Normal-Based Methods Widely Applicable\n",
        "   \n",
        "   * Use confidence intervals\n",
        "\n",
        "   * Perform hypothesis tests\n",
        "\n",
        "   * Apply z-tests and t-tests\n",
        "\n",
        "   * As long as the sample size is large, the sample mean behaves normally.\n",
        "\n",
        " 2. Foundation of Inferential Statistics\n",
        "\n",
        "  * CLT allows us to infer population characteristics from samples.\n",
        "\n",
        "  * Makes sampling distributions predictable and manageable.\n",
        "\n",
        " 3. Works with Many Types of Data\n",
        "   \n",
        "   * Works for skewed, uniform, exponential, or even multimodal distributions — as long as they have finite mean and variance.\n",
        "\n",
        "   * The larger the sample size\n",
        "n, the closer to normal the distribution of the sample mean.\n"
      ],
      "metadata": {
        "id": "rvZurZ2cUBSH"
      }
    },
    {
      "cell_type": "markdown",
      "source": [
        "**Question 7: What is the significance of confidence intervals in statistical analysis?**"
      ],
      "metadata": {
        "id": "M0DCZFcsULBP"
      }
    },
    {
      "cell_type": "markdown",
      "source": [
        "**Answer**\n",
        "\n",
        "A confidence interval (CI) provides a range of values that is likely to contain a population parameter (like the mean or proportion), based on a sample of data.\n",
        "\n",
        "| Feature        | Confidence Interval                |\n",
        "| -------------- | ---------------------------------- |\n",
        "| Purpose        | Estimate population parameters     |\n",
        "| Based on       | Sample data + probability theory   |\n",
        "| Accounts for   | Sampling error / uncertainty       |\n",
        "| Interpretation | Range likely to contain true value |\n",
        "| Key in         | Inference, testing, and decisions  |\n",
        "\n"
      ],
      "metadata": {
        "id": "MQES_1bNUPRo"
      }
    },
    {
      "cell_type": "markdown",
      "source": [
        "**Question 8: What is the concept of expected value in a probability distribution?**"
      ],
      "metadata": {
        "id": "o1khxudbUY8X"
      }
    },
    {
      "cell_type": "markdown",
      "source": [
        " **Answer**\n",
        "\n",
        " The expected value (also called the mean or expectation) of a random variable represents its long-run average outcome if an experiment is repeated many times.\n",
        "\n",
        "It gives a central value — a kind of weighted average — of all possible outcomes, where the weights are the probabilities of those outcomes.\n",
        "\n",
        " Definition:\n",
        "\n",
        "   For a Discrete Random Variable\n",
        "X:\n",
        "  \n",
        "  E[X]=i∑​xi​⋅P(X=xi​)\n",
        "\n",
        "WHERE:\n",
        "  \n",
        "  * x\n",
        "i\n",
        "\t​\n",
        "\n",
        ": possible values of\n",
        "𝑋\n",
        "\n",
        " * 𝑃\n",
        "(\n",
        "𝑋\n",
        "=\n",
        "𝑥\n",
        "𝑖\n",
        ")\n",
        "P(X=x\n",
        "i\n",
        "\t​\n",
        "\n",
        "): probability of each value"
      ],
      "metadata": {
        "id": "ITMqJ6w-UdCn"
      }
    },
    {
      "cell_type": "markdown",
      "source": [
        "**Question 9: Write a Python program to generate 1000 random numbers from a normal\n",
        "distribution with mean = 50 and standard deviation = 5. Compute its mean and standard\n",
        "deviation using NumPy, and draw a histogram to visualize the distribution.**\n"
      ],
      "metadata": {
        "id": "ChHfUr3-Ulvw"
      }
    },
    {
      "cell_type": "code",
      "source": [
        "import numpy as np\n",
        "import matplotlib.pyplot as plt\n",
        "\n",
        "# Step 1: Generate 1000 random numbers from a normal distribution\n",
        "mean = 50\n",
        "std_dev = 5\n",
        "size = 1000\n",
        "data = np.random.normal(mean, std_dev, size)\n",
        "\n",
        "# Step 2: Compute mean and standard deviation using NumPy\n",
        "calculated_mean = np.mean(data)\n",
        "calculated_std = np.std(data)\n",
        "\n",
        "print(f\"Calculated Mean: {calculated_mean:.2f}\")\n",
        "print(f\"Calculated Standard Deviation: {calculated_std:.2f}\")\n",
        "\n",
        "# Step 3: Draw a histogram\n",
        "plt.hist(data, bins=30, edgecolor='black', alpha=0.7)\n",
        "plt.title(\"Histogram of Normally Distributed Random Numbers\")\n",
        "plt.xlabel(\"Value\")\n",
        "plt.ylabel(\"Frequency\")\n",
        "plt.axvline(calculated_mean, color='red', linestyle='dashed', linewidth=2, label=f\"Mean = {calculated_mean:.2f}\")\n",
        "plt.legend()\n",
        "plt.show()"
      ],
      "metadata": {
        "colab": {
          "base_uri": "https://localhost:8080/",
          "height": 507
        },
        "id": "BqgeqCD2Uxst",
        "outputId": "72cd11c6-7935-459f-c94d-c5d18863deb7"
      },
      "execution_count": 1,
      "outputs": [
        {
          "output_type": "stream",
          "name": "stdout",
          "text": [
            "Calculated Mean: 49.91\n",
            "Calculated Standard Deviation: 5.03\n"
          ]
        },
        {
          "output_type": "display_data",
          "data": {
            "text/plain": [
              "<Figure size 640x480 with 1 Axes>"
            ],
            "image/png": "[encoded data removed]"
          },
          "metadata": {}
        }
      ]
    },
    {
      "cell_type": "markdown",
      "source": [
        "**Question 10: You are working as a data analyst for a retail company. The company has\n",
        "collected daily sales data for 2 years and wants you to identify the overall sales trend.\n",
        "daily_sales = [220, 245, 210, 265, 230, 250, 260, 275, 240, 255,\n",
        "235, 260, 245, 250, 225, 270, 265, 255, 250, 260]\n",
        "● Explain how you would apply the Central Limit Theorem to estimate the average sales\n",
        "with a 95% confidence interval.\n",
        "● Write the Python code to compute the mean sales and its confidence interval.**\n"
      ],
      "metadata": {
        "id": "tsVzbewcVBzv"
      }
    },
    {
      "cell_type": "code",
      "source": [
        "import numpy as np\n",
        "import scipy.stats as stats\n",
        "\n",
        "# Sample data\n",
        "daily_sales = [220, 245, 210, 265, 230, 250, 260, 275, 240, 255,\n",
        "               235, 260, 245, 250, 225, 270, 265, 255, 250, 260]\n",
        "\n",
        "# Convert to numpy array\n",
        "data = np.array(daily_sales)\n",
        "\n",
        "# Sample statistics\n",
        "sample_mean = np.mean(data)\n",
        "sample_std = np.std(data, ddof=1)  # use ddof=1 for sample standard deviation\n",
        "n = len(data)\n",
        "\n",
        "# Degrees of freedom\n",
        "df = n - 1\n",
        "\n",
        "# t-critical value for 95% CI\n",
        "confidence = 0.95\n",
        "alpha = 1 - confidence\n",
        "t_crit = stats.t.ppf(1 - alpha/2, df)\n",
        "\n",
        "# Margin of error\n",
        "margin_of_error = t_crit * (sample_std / np.sqrt(n))\n",
        "\n",
        "# Confidence interval\n",
        "ci_lower = sample_mean - margin_of_error\n",
        "ci_upper = sample_mean + margin_of_error\n",
        "\n",
        "# Print results\n",
        "print(f\"Sample Mean: {sample_mean:.2f}\")\n",
        "print(f\"Sample Standard Deviation: {sample_std:.2f}\")\n",
        "print(f\"95% Confidence Interval: ({ci_lower:.2f}, {ci_upper:.2f})\")"
      ],
      "metadata": {
        "colab": {
          "base_uri": "https://localhost:8080/"
        },
        "id": "v_TAksOsVMgw",
        "outputId": "9ed455df-afab-4630-9a72-eba1c885ca06"
      },
      "execution_count": 2,
      "outputs": [
        {
          "output_type": "stream",
          "name": "stdout",
          "text": [
            "Sample Mean: 248.25\n",
            "Sample Standard Deviation: 17.27\n",
            "95% Confidence Interval: (240.17, 256.33)\n"
          ]
        }
      ]
    }
  ]
}